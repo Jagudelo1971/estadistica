{
 "cells": [
  {
   "cell_type": "code",
   "execution_count": 28,
   "metadata": {},
   "outputs": [],
   "source": [
    "import pandas as pd\n",
    "import numpy as np\n",
    "import scipy.stats as stats\n"
   ]
  },
  {
   "cell_type": "markdown",
   "metadata": {},
   "source": [
    "# Trabajo 2"
   ]
  },
  {
   "cell_type": "markdown",
   "metadata": {},
   "source": [
    "La base de datos con la que le corresponde trabajar, se obtiene como una muestra aleatoria que corresponde a corresponde a los resultados obtenidos por los jóvenes de todo el país en las pruebas Saber 11, del año 2022. La información aparece agregada por Colegio y solo abarca los colegios de Antioquia. Dicha base contiene las variables: NATURALEZA (Colegio Oficial o No-Oficial), JORNADA (Asociado a los diferentes tipos de jornada de estudio), PROMLECT (Promedio obtenido por el colegio en Lectura Crítica) y PROMMATE (Promedio obtenido por el colegio en Matemáticas)."
   ]
  },
  {
   "cell_type": "code",
   "execution_count": 3,
   "metadata": {},
   "outputs": [
    {
     "data": {
      "text/html": [
       "<div>\n",
       "<style scoped>\n",
       "    .dataframe tbody tr th:only-of-type {\n",
       "        vertical-align: middle;\n",
       "    }\n",
       "\n",
       "    .dataframe tbody tr th {\n",
       "        vertical-align: top;\n",
       "    }\n",
       "\n",
       "    .dataframe thead th {\n",
       "        text-align: right;\n",
       "    }\n",
       "</style>\n",
       "<table border=\"1\" class=\"dataframe\">\n",
       "  <thead>\n",
       "    <tr style=\"text-align: right;\">\n",
       "      <th></th>\n",
       "      <th>NATURALEZA</th>\n",
       "      <th>JORNADA</th>\n",
       "      <th>PROMLECT</th>\n",
       "      <th>PROMMATE</th>\n",
       "    </tr>\n",
       "  </thead>\n",
       "  <tbody>\n",
       "    <tr>\n",
       "      <th>0</th>\n",
       "      <td>OFICIAL</td>\n",
       "      <td>COMPLETA</td>\n",
       "      <td>33</td>\n",
       "      <td>18</td>\n",
       "    </tr>\n",
       "    <tr>\n",
       "      <th>1</th>\n",
       "      <td>OFICIAL</td>\n",
       "      <td>COMPLETA</td>\n",
       "      <td>0</td>\n",
       "      <td>19</td>\n",
       "    </tr>\n",
       "    <tr>\n",
       "      <th>2</th>\n",
       "      <td>OFICIAL</td>\n",
       "      <td>COMPLETA</td>\n",
       "      <td>30</td>\n",
       "      <td>21</td>\n",
       "    </tr>\n",
       "    <tr>\n",
       "      <th>3</th>\n",
       "      <td>OFICIAL</td>\n",
       "      <td>COMPLETA</td>\n",
       "      <td>44</td>\n",
       "      <td>21</td>\n",
       "    </tr>\n",
       "    <tr>\n",
       "      <th>4</th>\n",
       "      <td>OFICIAL</td>\n",
       "      <td>COMPLETA</td>\n",
       "      <td>31</td>\n",
       "      <td>25</td>\n",
       "    </tr>\n",
       "  </tbody>\n",
       "</table>\n",
       "</div>"
      ],
      "text/plain": [
       "  NATURALEZA   JORNADA  PROMLECT  PROMMATE\n",
       "0    OFICIAL  COMPLETA        33        18\n",
       "1    OFICIAL  COMPLETA         0        19\n",
       "2    OFICIAL  COMPLETA        30        21\n",
       "3    OFICIAL  COMPLETA        44        21\n",
       "4    OFICIAL  COMPLETA        31        25"
      ]
     },
     "execution_count": 3,
     "metadata": {},
     "output_type": "execute_result"
    }
   ],
   "source": [
    "# Leer archivo csv\n",
    "\n",
    "raw_data_url = \"https://raw.githubusercontent.com/repos-especializacion-UdeA/estadistica/refs/heads/main/trabajo2/DatosTrabajo2EAE20242.csv\"\n",
    "\n",
    "# Leer el archivo CSV\n",
    "df = pd.read_csv(raw_data_url)\n",
    "\n",
    "# Mostrar las primeras filas del DataFrame\n",
    "df.head()"
   ]
  },
  {
   "cell_type": "markdown",
   "metadata": {},
   "source": [
    "## Funciones resumen"
   ]
  },
  {
   "cell_type": "code",
   "execution_count": 4,
   "metadata": {},
   "outputs": [
    {
     "data": {
      "text/plain": [
       "(1807, 4)"
      ]
     },
     "execution_count": 4,
     "metadata": {},
     "output_type": "execute_result"
    }
   ],
   "source": [
    "df.shape"
   ]
  },
  {
   "cell_type": "code",
   "execution_count": 5,
   "metadata": {},
   "outputs": [
    {
     "data": {
      "text/html": [
       "<div>\n",
       "<style scoped>\n",
       "    .dataframe tbody tr th:only-of-type {\n",
       "        vertical-align: middle;\n",
       "    }\n",
       "\n",
       "    .dataframe tbody tr th {\n",
       "        vertical-align: top;\n",
       "    }\n",
       "\n",
       "    .dataframe thead th {\n",
       "        text-align: right;\n",
       "    }\n",
       "</style>\n",
       "<table border=\"1\" class=\"dataframe\">\n",
       "  <thead>\n",
       "    <tr style=\"text-align: right;\">\n",
       "      <th></th>\n",
       "      <th>PROMLECT</th>\n",
       "      <th>PROMMATE</th>\n",
       "    </tr>\n",
       "  </thead>\n",
       "  <tbody>\n",
       "    <tr>\n",
       "      <th>count</th>\n",
       "      <td>1807.000000</td>\n",
       "      <td>1807.000000</td>\n",
       "    </tr>\n",
       "    <tr>\n",
       "      <th>mean</th>\n",
       "      <td>50.321527</td>\n",
       "      <td>47.105147</td>\n",
       "    </tr>\n",
       "    <tr>\n",
       "      <th>std</th>\n",
       "      <td>7.028032</td>\n",
       "      <td>7.897110</td>\n",
       "    </tr>\n",
       "    <tr>\n",
       "      <th>min</th>\n",
       "      <td>0.000000</td>\n",
       "      <td>18.000000</td>\n",
       "    </tr>\n",
       "    <tr>\n",
       "      <th>25%</th>\n",
       "      <td>45.000000</td>\n",
       "      <td>41.000000</td>\n",
       "    </tr>\n",
       "    <tr>\n",
       "      <th>50%</th>\n",
       "      <td>50.000000</td>\n",
       "      <td>47.000000</td>\n",
       "    </tr>\n",
       "    <tr>\n",
       "      <th>75%</th>\n",
       "      <td>55.000000</td>\n",
       "      <td>52.000000</td>\n",
       "    </tr>\n",
       "    <tr>\n",
       "      <th>max</th>\n",
       "      <td>74.000000</td>\n",
       "      <td>76.000000</td>\n",
       "    </tr>\n",
       "  </tbody>\n",
       "</table>\n",
       "</div>"
      ],
      "text/plain": [
       "          PROMLECT     PROMMATE\n",
       "count  1807.000000  1807.000000\n",
       "mean     50.321527    47.105147\n",
       "std       7.028032     7.897110\n",
       "min       0.000000    18.000000\n",
       "25%      45.000000    41.000000\n",
       "50%      50.000000    47.000000\n",
       "75%      55.000000    52.000000\n",
       "max      74.000000    76.000000"
      ]
     },
     "execution_count": 5,
     "metadata": {},
     "output_type": "execute_result"
    }
   ],
   "source": [
    "df.describe()"
   ]
  },
  {
   "cell_type": "code",
   "execution_count": 8,
   "metadata": {},
   "outputs": [
    {
     "data": {
      "text/plain": [
       "NATURALEZA  JORNADA        PROMLECT  PROMMATE\n",
       "OFICIAL     UNICA          53        49          10\n",
       "            COMPLETA       44        41          10\n",
       "            MANANA         56        52           9\n",
       "NO OFICIAL  COMPLETA       63        63           9\n",
       "OFICIAL     FIN DE SEMANA  43        39           9\n",
       "                                                 ..\n",
       "            COMPLETA       44        30           1\n",
       "                                     34           1\n",
       "                                     44           1\n",
       "                           45        29           1\n",
       "            UNICA          65        64           1\n",
       "Length: 964, dtype: int64"
      ]
     },
     "execution_count": 8,
     "metadata": {},
     "output_type": "execute_result"
    }
   ],
   "source": [
    "df.value_counts()"
   ]
  },
  {
   "cell_type": "code",
   "execution_count": 12,
   "metadata": {},
   "outputs": [
    {
     "name": "stdout",
     "output_type": "stream",
     "text": [
      "['OFICIAL' 'NO OFICIAL']\n",
      "['COMPLETA' 'MANANA' 'UNICA' 'NOCTURNA' 'FIN DE SEMANA' 'TARDE']\n"
     ]
    }
   ],
   "source": [
    "print(df.NATURALEZA.unique())\n",
    "print(df.JORNADA.unique())"
   ]
  },
  {
   "cell_type": "markdown",
   "metadata": {},
   "source": [
    "## Punto 1 - Intervalo de confianza\n",
    "\n",
    "Construir en Python un IC para al 95% de confianza necesario para responder: ¿Puede afirmarse que el resultado medio obtenido por los colegios en Lectura es superior a 45 puntos? Justifique su respuesta."
   ]
  },
  {
   "cell_type": "markdown",
   "metadata": {},
   "source": [
    "### Solución\n",
    "\n",
    "Sea **$X_i$** la VA relacionada con el promedio obtenido en la prueba de lectura critica por el i-esimo colegio \n",
    "\n",
    "A partir de la tabla podemos obtener los siguientes valores:"
   ]
  },
  {
   "cell_type": "code",
   "execution_count": 25,
   "metadata": {},
   "outputs": [
    {
     "name": "stdout",
     "output_type": "stream",
     "text": [
      "n = 1807\n",
      "X = 50.32153\n",
      "S = 7.02803\n"
     ]
    }
   ],
   "source": [
    "# Datos del problema\n",
    "n = df.shape[0]\n",
    "X = df.PROMLECT.mean()\n",
    "S = df.PROMLECT.std()\n",
    "print(f\"n = {n}\")\n",
    "print(f\"X = {X:.5f}\")\n",
    "print(f\"S = {S:.5f}\")\n",
    "\n",
    "NC = 0.95 # Nivel de confianza\n",
    "alpha = 1 - NC "
   ]
  },
  {
   "cell_type": "markdown",
   "metadata": {},
   "source": [
    "Como la poblacion no es normal, el numero de datos que esta tiene es de mas de 30 y la varianza es desconocida, usamos la siguiente formula para el intervalo de confianza:\n",
    "\n",
    "$$\n",
    "IC = \\overline{X}\\pm Z_{\\alpha/2}\\frac{S}{\\sqrt{n}}\n",
    "$$\n",
    "\n",
    "Inicialmente vamos a calcular para $\\alpha = 0.05$:\n",
    "\n",
    "$\n",
    "Z_{\\alpha/2} = Z_{0.025}  \n",
    "$"
   ]
  },
  {
   "cell_type": "code",
   "execution_count": 30,
   "metadata": {},
   "outputs": [
    {
     "name": "stdout",
     "output_type": "stream",
     "text": [
      "(49.99748,50.64557)\n"
     ]
    }
   ],
   "source": [
    "Z = stats.norm()\n",
    "perc = Z.ppf(1 - alpha/2)\n",
    "IC_left = X - perc*S/np.sqrt(n)\n",
    "IC_right = X + perc*S/np.sqrt(n)\n",
    "print(f\"({IC_left:.5f},{IC_right:.5f})\")"
   ]
  },
  {
   "cell_type": "markdown",
   "metadata": {},
   "source": [
    "**Respuesta numerica**: Como el intervalo en el cual se encuentra la media en los para lectura esta en el rango $(49.99748,50.64557)$, se puede afirmar con un nivel de confianza del 95% que el resultado promedio en la prueba de lectura es superior a 45 puntos"
   ]
  },
  {
   "cell_type": "code",
   "execution_count": null,
   "metadata": {},
   "outputs": [],
   "source": [
    "# Calculo del "
   ]
  },
  {
   "cell_type": "markdown",
   "metadata": {},
   "source": [
    "* https://github.com/OpenIntroStat/openintro-statistics-slides\n",
    "* https://365datascience.com/calculators/confidence-interval-calculator/\n",
    "* https://oercommons.org/authoring/18167-openstax-introductory-statistics-videos-with-lectu/view\n",
    "* https://stanford.edu/~shervine/teaching/cme-106/\n",
    "* https://datatab.es/tutorial/confidence-interval\n",
    "* https://neuraldatascience.io/3b-ai_assisted/multi_data_files_2.html"
   ]
  },
  {
   "cell_type": "markdown",
   "metadata": {},
   "source": []
  }
 ],
 "metadata": {
  "kernelspec": {
   "display_name": "Python 3",
   "language": "python",
   "name": "python3"
  },
  "language_info": {
   "codemirror_mode": {
    "name": "ipython",
    "version": 3
   },
   "file_extension": ".py",
   "mimetype": "text/x-python",
   "name": "python",
   "nbconvert_exporter": "python",
   "pygments_lexer": "ipython3",
   "version": "3.9.13"
  }
 },
 "nbformat": 4,
 "nbformat_minor": 2
}
